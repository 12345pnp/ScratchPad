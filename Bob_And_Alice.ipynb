{
  "nbformat": 4,
  "nbformat_minor": 0,
  "metadata": {
    "colab": {
      "provenance": [],
      "authorship_tag": "ABX9TyNlKNc2jBXBKcpk2K2ueSIb",
      "include_colab_link": true
    },
    "kernelspec": {
      "name": "python3",
      "display_name": "Python 3"
    },
    "language_info": {
      "name": "python"
    }
  },
  "cells": [
    {
      "cell_type": "markdown",
      "metadata": {
        "id": "view-in-github",
        "colab_type": "text"
      },
      "source": [
        "<a href=\"https://colab.research.google.com/github/12345pnp/ScratchPad/blob/master/Bob_And_Alice.ipynb\" target=\"_parent\"><img src=\"https://colab.research.google.com/assets/colab-badge.svg\" alt=\"Open In Colab\"/></a>"
      ]
    },
    {
      "cell_type": "markdown",
      "source": [
        "https://twitter.com/littmath/status/1769408478139785497"
      ],
      "metadata": {
        "id": "EIxzlEuFN2eU"
      }
    },
    {
      "cell_type": "code",
      "execution_count": 1,
      "metadata": {
        "id": "YqWixCRYMY67"
      },
      "outputs": [],
      "source": [
        "def bob_and_alice_iterative_dp(n):\n",
        "\tbob_minus_alice = [{} for _ in range(n + 1)]\n",
        "\n",
        "\t#Number of sequences of length 1 ending with H/T for bob_score - alice_score = 0\n",
        "\tbob_minus_alice[1] = {0: {\"H\": 1, \"T\": 1}}\n",
        "\n",
        "\tfor i in range(2, n + 1):\n",
        "\n",
        "\t\tfor bob_alice_diff in bob_minus_alice[i - 1]:\n",
        "\n",
        "\t\t\tfor new_diff in range(bob_alice_diff - 1, bob_alice_diff + 2):\n",
        "\t\t\t\tbob_minus_alice[i][new_diff] = bob_minus_alice[i].get(new_diff, {\"H\": 0, \"T\": 0})\n",
        "\n",
        "\t\t\t#case 1 - new toss is Heads\n",
        "\t\t\tbob_minus_alice[i][bob_alice_diff - 1][\"H\"] += bob_minus_alice[i - 1][bob_alice_diff][\"H\"]\n",
        "\t\t\tbob_minus_alice[i][bob_alice_diff][\"H\"] += bob_minus_alice[i - 1][bob_alice_diff][\"T\"]\n",
        "\n",
        "\t\t\t#Case 2 - new toss is tails\n",
        "\t\t\tbob_minus_alice[i][bob_alice_diff + 1][\"T\"] += bob_minus_alice[i - 1][bob_alice_diff][\"H\"]\n",
        "\t\t\tbob_minus_alice[i][bob_alice_diff][\"T\"] += bob_minus_alice[i - 1][bob_alice_diff][\"T\"]\n",
        "\n",
        "\tbob_wins = sum([bob_minus_alice[n][key][\"H\"] + bob_minus_alice[n][key][\"T\"] for key in bob_minus_alice[n] if key > 0])\n",
        "\talice_wins = sum([bob_minus_alice[n][key][\"H\"] + bob_minus_alice[n][key][\"T\"] for key in bob_minus_alice[n] if key < 0])\n",
        "\n",
        "\treturn [bob_wins, alice_wins]"
      ]
    },
    {
      "cell_type": "code",
      "source": [
        "def bob_and_alice_recursive_dp(k = 0, bob_minus_alice = 0, prev_toss = \"\", n = 100):\n",
        "\n",
        "\tif (k, bob_minus_alice, prev_toss) in dp:\n",
        "\t\treturn dp[(k, bob_minus_alice, prev_toss)]\n",
        "\n",
        "\tif k == n:\n",
        "\t\tif bob_minus_alice > 0:\n",
        "\t\t\t#print(\"Bob Wins\")\n",
        "\n",
        "\t\t\treturn [1, 0]\n",
        "\n",
        "\t\telif bob_minus_alice < 0:\n",
        "\t\t\t#print(\"Alice Wins\")\n",
        "\n",
        "\t\t\treturn [0, 1]\n",
        "\n",
        "\t\telse:\n",
        "\t\t\t#print(\"Tie\")\n",
        "\n",
        "\t\t\treturn [0, 0]\n",
        "\n",
        "\n",
        "\t#Case 1 - new toss is heads\n",
        "\n",
        "\tnew_bob_minus_alice = bob_minus_alice - (1 if prev_toss == \"H\" else 0)\n",
        "\t[bob_wins_H, alice_wins_H] = bob_and_alice_recursive_dp(k + 1, new_bob_minus_alice, \"H\", n)\n",
        "\n",
        "\t#Case 2 - new toss is tails\n",
        "\n",
        "\tnew_bob_minus_alice = bob_minus_alice + (1 if prev_toss == \"H\" else 0)\n",
        "\t[bob_wins_T, alice_wins_T] = bob_and_alice_recursive_dp(k + 1, new_bob_minus_alice, \"T\", n)\n",
        "\n",
        "\n",
        "\tdp[(k, bob_minus_alice, prev_toss)] = [bob_wins_H + bob_wins_T, alice_wins_H + alice_wins_T]\n",
        "\treturn [bob_wins_H + bob_wins_T, alice_wins_H + alice_wins_T]"
      ],
      "metadata": {
        "id": "UfRhcOEfMinf"
      },
      "execution_count": 2,
      "outputs": []
    },
    {
      "cell_type": "code",
      "source": [
        "def bob_and_alice_brute_force(k = 0, bob_count = 0, alice_count = 0, tosses = [], n = 10):\n",
        "\n",
        "\tif tosses[-2:] == ['H', 'H']:\n",
        "\t\talice_count += 1\n",
        "\telif tosses[-2:] == ['H', 'T']:\n",
        "\t\tbob_count += 1\n",
        "\n",
        "\tif k == n:\n",
        "\t\tif bob_count > alice_count:\n",
        "\t\t\t#print(\"Bob Wins\", tosses)\n",
        "\n",
        "\t\t\treturn [1, 0]\n",
        "\n",
        "\t\telif alice_count > bob_count:\n",
        "\t\t\t#print(\"Alice Wins\", tosses)\n",
        "\n",
        "\t\t\treturn [0, 1]\n",
        "\n",
        "\t\telse:\n",
        "\t\t\t#print(\"Tie\", tosses)\n",
        "\n",
        "\t\t\treturn [0, 0]\n",
        "\n",
        "\t[bob_wins_H, alice_wins_H] = bob_and_alice_brute_force(k + 1, bob_count, alice_count, tosses + [\"H\"], n)\n",
        "\n",
        "\t[bob_wins_T, alice_wins_T] = bob_and_alice_brute_force(k + 1, bob_count, alice_count, tosses + [\"T\"], n)\n",
        "\n",
        "\treturn [bob_wins_H + bob_wins_T, alice_wins_H + alice_wins_T]"
      ],
      "metadata": {
        "id": "ZbFCdi_jMj9B"
      },
      "execution_count": null,
      "outputs": []
    },
    {
      "cell_type": "code",
      "source": [
        "dp = {}\n",
        "N = 100\n",
        "\n",
        "\n",
        "bob_wins, alice_wins = bob_and_alice_recursive_dp(n = N)\n",
        "print(\"Recursive DP Solution \\n Total Bob Wins: \", bob_wins, \". \\n Total ALice Wins: \", alice_wins)\n",
        "\n",
        "bob_wins, alice_wins = bob_and_alice_iterative_dp(n = N)\n",
        "print(\"Iterative DP Solution \\n Total Bob Wins: \", bob_wins, \". \\n Total ALice Wins: \", alice_wins)\n",
        "\n",
        "#Try the brute force function at your own risk"
      ],
      "metadata": {
        "colab": {
          "base_uri": "https://localhost:8080/"
        },
        "id": "d0zkYDfbM9WM",
        "outputId": "f58bb14b-00cb-416a-d5d3-ee67e8ea042f"
      },
      "execution_count": 9,
      "outputs": [
        {
          "output_type": "stream",
          "name": "stdout",
          "text": [
            "Recursive DP Solution \n",
            " Total Bob Wins:  615866238418960422359689555420 . \n",
            " Total ALice Wins:  580127949239420834381088427404\n",
            "Iterative DP Solution \n",
            " Total Bob Wins:  615866238418960422359689555420 . \n",
            " Total ALice Wins:  580127949239420834381088427404\n"
          ]
        }
      ]
    }
  ]
}